{
 "cells": [
  {
   "cell_type": "code",
   "execution_count": 17,
   "id": "7f879829",
   "metadata": {},
   "outputs": [
    {
     "name": "stdout",
     "output_type": "stream",
     "text": [
      "Bibliotecas importadas e .env carregado.\n",
      "Modelo LLM (Groq Llama 3) e Embeddings (Google Generative AI) inicializados.\n"
     ]
    }
   ],
   "source": [
    "# !pip install --upgrade langchain langchain-groq langchain-google-genai faiss-cpu python-dotenv sentence-transformers langchain-community\n",
    "\n",
    "import os\n",
    "from dotenv import load_dotenv\n",
    "\n",
    "# Importações para Groq (LLM) e HuggingFace (Embeddings)\n",
    "from langchain_groq import ChatGroq\n",
    "from langchain_google_genai import GoogleGenerativeAIEmbeddings\n",
    "\n",
    "# Importações do LangChain\n",
    "from langchain_core.prompts import ChatPromptTemplate, MessagesPlaceholder\n",
    "from langchain_core.runnables.history import RunnableWithMessageHistory\n",
    "from langchain_community.chat_message_histories import ChatMessageHistory\n",
    "from langchain.chains import create_retrieval_chain\n",
    "from langchain.chains.combine_documents import create_stuff_documents_chain\n",
    "from langchain.text_splitter import RecursiveCharacterTextSplitter\n",
    "from langchain_community.vectorstores import FAISS\n",
    "\n",
    "# Carrega a GROQ_API_KEY do seu arquivo .env\n",
    "load_dotenv()\n",
    "print(\"Bibliotecas importadas e .env carregado.\")\n",
    "\n",
    "# Inicializa o LLM da Groq usando o modelo Llama 3 de 8 bilhões de parâmetros\n",
    "llm = ChatGroq(model_name=\"llama-3.3-70b-versatile\", temperature=0.7)\n",
    "\n",
    "# Inicializa um modelo de embeddings da Google Generative AI\n",
    "embeddings = GoogleGenerativeAIEmbeddings(model=\"models/embedding-001\")\n",
    "\n",
    "print(\"Modelo LLM (Groq Llama 3) e Embeddings (Google Generative AI) inicializados.\")\n"
   ]
  },
  {
   "cell_type": "markdown",
   "id": "5e69a2a5",
   "metadata": {},
   "source": [
    "## PARTE 1 - CHATBOT ASSISTENTE COM MEMÓRIA"
   ]
  },
  {
   "cell_type": "code",
   "execution_count": 18,
   "id": "41f681c9",
   "metadata": {},
   "outputs": [
    {
     "name": "stdout",
     "output_type": "stream",
     "text": [
      "Chatbot com memória (RunnableWithMessageHistory) configurado.\n"
     ]
    }
   ],
   "source": [
    "# Prompt moderno com placeholders para o histórico e nova entrada\n",
    "prompt_chat = ChatPromptTemplate.from_messages([\n",
    "    (\"system\", \"Você é um assistente virtual da Welhome, amigável e prestativo. Seu objetivo é qualificar um novo lead.\"),\n",
    "    MessagesPlaceholder(variable_name=\"chat_history\"),\n",
    "    (\"human\", \"{input}\"),\n",
    "])\n",
    "\n",
    "# Cria a chain de conversação usando a sintaxe LCEL (pipe |)\n",
    "runnable = prompt_chat | llm\n",
    "\n",
    "# Armazenamento da memória da conversa (em memória, para este exemplo)\n",
    "store = {}\n",
    "\n",
    "def get_session_history(session_id: str):\n",
    "    \"\"\"Função para obter o histórico de uma sessão específica.\"\"\"\n",
    "    if session_id not in store:\n",
    "        store[session_id] = ChatMessageHistory()\n",
    "    return store[session_id]\n",
    "\n",
    "# Envolve a chain com o gerenciador de histórico\n",
    "conversation_with_history = RunnableWithMessageHistory(\n",
    "    runnable,\n",
    "    get_session_history,\n",
    "    input_messages_key=\"input\",\n",
    "    history_messages_key=\"chat_history\",\n",
    ")\n",
    "\n",
    "print(\"Chatbot com memória (RunnableWithMessageHistory) configurado.\")"
   ]
  },
  {
   "cell_type": "code",
   "execution_count": 23,
   "id": "007218ea",
   "metadata": {},
   "outputs": [
    {
     "name": "stdout",
     "output_type": "stream",
     "text": [
      "\n",
      "--- Simulando Conversa de Qualificação com Llama 3 ---\n",
      "Assistente: Olá! É um prazer conhecê-lo novamente! Você já estava conversando comigo sobre a Welhome e como podemos ajudá-lo a gerenciar seus 5 imóveis em Florianópolis.\n",
      "\n",
      "Você havia mencionado que já usou outra plataforma antes e estava procurando por algo que atendesse às suas necessidades específicas. Eu havia destacado alguns dos benefícios que a Welhome pode oferecer, como aumento da rentabilidade, redução dos custos, melhoria da experiência do hóspede e análise de desempenho e relatórios.\n",
      "\n",
      "O que você gostaria de saber agora? Queremos entender melhor como podemos ajudá-lo a alcançar seus objetivos e superar os desafios que você enfrenta na gestão dos seus imóveis. Você tem alguma dúvida específica ou gostaria de saber mais sobre algum dos benefícios que mencionei anteriormente?\n",
      "Assistente: Entendi! Você é um proprietário de imóveis experiente em Florianópolis e já tem experiência com outras plataformas de gestão de imóveis.\n",
      "\n",
      "A Welhome é uma plataforma inovadora que oferece soluções personalizadas para proprietários de imóveis como você. Nossa equipe tem experiência em gestão de imóveis e pode ajudá-lo a otimizar a rentabilidade dos seus imóveis, reduzir os custos e melhorar a experiência dos seus hóspedes.\n",
      "\n",
      "Com a Welhome, você pode ter acesso a uma variedade de serviços, incluindo:\n",
      "\n",
      "* Gestão de calendário e preços\n",
      "* Marketing e publicidade\n",
      "* Atendimento ao hóspede\n",
      "* Manutenção e reparos\n",
      "* Análise de desempenho e relatórios\n",
      "\n",
      "Além disso, nossa plataforma é fácil de usar e oferece uma visão geral clara dos seus imóveis, permitindo que você tome decisões informadas e otimize a gestão dos seus imóveis.\n",
      "\n",
      "O que você gostaria de saber sobre a Welhome? Queremos entender melhor as suas necessidades e como podemos ajudá-lo a melhorar a gestão dos seus imóveis em Florianópolis. Você está procurando por algo específico que não tenha encontrado na outra plataforma que usou anteriormente?\n",
      "\n",
      "Também gostaria de mencionar que, como você tem 5 imóveis, podemos oferecer um pacote personalizado para atender às suas necessidades específicas. Isso pode incluir descontos e benefícios exclusivos para proprietários de imóveis com múltiplos imóveis. Você gostaria de saber mais sobre isso?\n",
      "Assistente: Excelente pergunta! Com a Welhome, você pode desfrutar de vários benefícios que podem ajudá-lo a otimizar a gestão dos seus 5 imóveis em Florianópolis. Aqui estão alguns dos principais benefícios:\n",
      "\n",
      "1. **Aumento da rentabilidade**: Nossa equipe de especialistas pode ajudá-lo a definir preços competitivos e a otimizar a ocupação dos seus imóveis, aumentando assim a rentabilidade.\n",
      "2. **Redução dos custos**: Com a Welhome, você pode reduzir os custos de gestão, manutenção e reparos, pois nossa equipe se encarrega de tudo, desde a limpeza até a manutenção dos imóveis.\n",
      "3. **Melhoria da experiência do hóspede**: Nossa equipe de atendimento ao hóspede está disponível 24 horas por dia, 7 dias por semana, para garantir que os hóspedes tenham uma experiência incrível e que você receba avaliações positivas.\n",
      "4. **Análise de desempenho e relatórios**: Você terá acesso a relatórios detalhados sobre o desempenho dos seus imóveis, o que lhe permitirá tomar decisões informadas e ajustar a estratégia de gestão.\n",
      "5. **Gestão de calendário e preços**: Nossa plataforma permite que você gerencie facilmente o calendário e os preços dos seus imóveis, garantindo que você esteja sempre atualizado e competitivo.\n",
      "6. **Marketing e publicidade**: Nossa equipe de marketing pode ajudá-lo a promover os seus imóveis em canais de distribuição de larga escala, aumentando assim a visibilidade e a demanda.\n",
      "7. **Segurança e confiabilidade**: A Welhome é uma plataforma segura e confiável, com uma equipe experiente e especializada em gestão de imóveis.\n",
      "8. **Flexibilidade e personalização**: Nossa plataforma é personalizável para atender às suas necessidades específicas, e você pode escolher os serviços que melhor se adaptam às suas necessidades.\n",
      "9. **Apoio técnico**: Nossa equipe de suporte técnico está disponível para ajudá-lo a resolver qualquer problema ou dúvida que você possa ter.\n",
      "10. **Descontos e benefícios exclusivos**: Como proprietário de 5 imóveis, você pode ter acesso a descontos e benefícios exclusivos, como descontos em serviços de manutenção e reparos, ou acesso a ferramentas de gestão de imóveis avançadas.\n",
      "\n",
      "Além disso, como proprietário de 5 imóveis, você também pode se beneficiar de:\n",
      "\n",
      "* **Gestão centralizada**: Gerencie todos os seus imóveis em um só lugar, com uma visão geral clara de todos os imóveis e suas respectivas necessidades.\n",
      "* **Economia de escala**: Com a Welhome, você pode economizar dinheiro em serviços de manutenção e reparos, pois nossa equipe pode negociar preços mais baixos com os fornecedores.\n",
      "* **Aumento da eficiência**: Nossa plataforma e equipe podem ajudá-lo a otimizar a gestão dos seus imóveis, reduzindo o tempo e o esforço necessário para gerenciar todos os imóveis.\n",
      "\n",
      "Você gostaria de saber mais sobre algum desses benefícios? Ou gostaria de discutir como a Welhome pode ajudá-lo a alcançar seus objetivos específicos?\n"
     ]
    }
   ],
   "source": [
    "print(\"\\n--- Simulando Conversa de Qualificação com Llama 3 ---\")\n",
    "session_id = \"conversa_lead_welhome_001\"\n",
    "config = {\"configurable\": {\"session_id\": session_id}}\n",
    "\n",
    "# [cite_start]Simula as interações para cumprir os requisitos do case [cite: 1]\n",
    "resposta1 = conversation_with_history.invoke({\"input\": \"Olá, gostaria de informações.\"}, config=config)\n",
    "print(f\"Assistente: {resposta1.content}\")\n",
    "\n",
    "resposta2 = conversation_with_history.invoke({\"input\": \"Tenho 5 imóveis em Florianópolis e já usei outra plataforma antes.\"}, config=config)\n",
    "print(f\"Assistente: {resposta2.content}\")\n",
    "\n",
    "# [cite_start]O LLM responde de forma personalizada com base nas informações dadas [cite: 1]\n",
    "resposta3 = conversation_with_history.invoke({\"input\": \"Quais os benefícios para mim?\"}, config=config)\n",
    "print(f\"Assistente: {resposta3.content}\")\n"
   ]
  },
  {
   "cell_type": "code",
   "execution_count": 24,
   "id": "75100933",
   "metadata": {},
   "outputs": [
    {
     "name": "stdout",
     "output_type": "stream",
     "text": [
      "\n",
      "--- RESUMO PARA O VENDEDOR ---\n",
      "- **Quantidade de Imóveis:** 5\n",
      "- **Localização:** Florianópolis\n",
      "- **Experiência Prévia:** O proprietário já utilizou outra plataforma de gestão de imóveis anteriormente.\n",
      "- **Principal Interesse:** O proprietário está procurando por uma plataforma que possa ajudá-lo a otimizar a gestão dos seus imóveis, aumentar a rentabilidade, reduzir os custos e melhorar a experiência dos hóspedes. Ele também está interessado em saber mais sobre os benefícios específicos que a Welhome pode oferecer para proprietários de múltiplos imóveis.\n"
     ]
    }
   ],
   "source": [
    "prompt_template_resumo = ChatPromptTemplate.from_template(\"\"\"\n",
    "Com base no histórico de conversa abaixo, gere um resumo estruturado para um vendedor humano. Use o formato:\n",
    "- **Quantidade de Imóveis:** [Número]\n",
    "- **Localização:** [Cidade/Bairro]\n",
    "- **Experiência Prévia:** [Descrição]\n",
    "- **Principal Interesse:** [Inferir o interesse do lead]\n",
    "\n",
    "Histórico da Conversa: {historico}\n",
    "\"\"\")\n",
    "\n",
    "historico_conversa = get_session_history(session_id).messages\n",
    "summarization_chain = prompt_template_resumo | llm\n",
    "resumo_para_vendedor = summarization_chain.invoke({\"historico\": historico_conversa})\n",
    "\n",
    "print(\"\\n--- RESUMO PARA O VENDEDOR ---\")\n",
    "print(resumo_para_vendedor.content)\n"
   ]
  },
  {
   "cell_type": "markdown",
   "id": "29bae69c",
   "metadata": {},
   "source": [
    "## PARTE 2 - SISTEMA DE RAG COM FAQ"
   ]
  },
  {
   "cell_type": "code",
   "execution_count": 20,
   "id": "2f6f7ea1",
   "metadata": {},
   "outputs": [],
   "source": [
    "# Base de conhecimento (FAQ) da Welhome\n",
    "faq_welhome = \"\"\"\n",
    "Pergunta: Como a Welhome garante que o aluguel será pago em dia?\n",
    "Resposta: A Welhome oferece a garantia de aluguel em dia. Mesmo que o inquilino atrase, nós garantimos o repasse do valor para o proprietário na data combinada, sem custos adicionais.\n",
    "\n",
    "Pergunta: Quem é responsável pela manutenção do imóvel?\n",
    "Resposta: Reparos estruturais são de responsabilidade do proprietário. Pequenas manutenções do dia a dia, como troca de lâmpadas, são do inquilino. Nossa plataforma ajuda a intermediar e orçar serviços de manutenção quando necessário.\n",
    "\n",
    "Pergunta: Qual é o custo da taxa de administração da Welhome?\n",
    "Resposta: Nossa taxa de administração é de 8% sobre o valor do aluguel. Essa taxa cobre a gestão completa do seu imóvel, incluindo divulgação, gestão de contratos, repasse garantido e suporte.\n",
    "\n",
    "Pergunta: Como funciona a vistoria do imóvel?\n",
    "Resposta: Realizamos uma vistoria profissional completa, com fotos e vídeos, antes da entrada do inquilino e após a sua saída. Isso garante que o imóvel seja devolvido nas mesmas condições em que foi entregue.\n",
    "\"\"\""
   ]
  },
  {
   "cell_type": "code",
   "execution_count": 21,
   "id": "db5b801f",
   "metadata": {},
   "outputs": [
    {
     "name": "stdout",
     "output_type": "stream",
     "text": [
      "Setup do RAG concluído.\n"
     ]
    }
   ],
   "source": [
    "# 1. Dividir e Vetorizar\n",
    "text_splitter = RecursiveCharacterTextSplitter(chunk_size=500, chunk_overlap=50)\n",
    "docs = text_splitter.create_documents([faq_welhome])\n",
    "vector_store = FAISS.from_documents(docs, embeddings)\n",
    "retriever = vector_store.as_retriever()\n",
    "\n",
    "# 2. Prompt e Chain de RAG\n",
    "prompt_rag_template = ChatPromptTemplate.from_template(\"\"\"\n",
    "Responda a pergunta do usuário de forma natural com base apenas no contexto fornecido:\n",
    "Contexto:\n",
    "{context}\n",
    "\n",
    "Pergunta: {input}\n",
    "\"\"\")\n",
    "\n",
    "question_answer_chain = create_stuff_documents_chain(llm, prompt_rag_template)\n",
    "rag_chain = create_retrieval_chain(retriever, question_answer_chain)\n",
    "\n",
    "print(\"Setup do RAG concluído.\")\n"
   ]
  },
  {
   "cell_type": "code",
   "execution_count": 22,
   "id": "9e630c57",
   "metadata": {},
   "outputs": [
    {
     "name": "stdout",
     "output_type": "stream",
     "text": [
      "\n",
      "PERGUNTA: Quanto vocês cobram pelo serviço?\n",
      "RESPOSTA: Nossa taxa de administração é de 8% sobre o valor do aluguel. Essa taxa cobre a gestão completa do seu imóvel, incluindo divulgação, gestão de contratos, repasse garantido e suporte. Não há outros custos adicionais além disso.\n"
     ]
    }
   ],
   "source": [
    "pergunta_teste_rag = \"Quanto vocês cobram pelo serviço?\"\n",
    "resposta_rag = rag_chain.invoke({\"input\": pergunta_teste_rag})\n",
    "\n",
    "print(f\"\\nPERGUNTA: {pergunta_teste_rag}\")\n",
    "print(f\"RESPOSTA: {resposta_rag['answer']}\")\n"
   ]
  }
 ],
 "metadata": {
  "kernelspec": {
   "display_name": ".venv",
   "language": "python",
   "name": "python3"
  },
  "language_info": {
   "codemirror_mode": {
    "name": "ipython",
    "version": 3
   },
   "file_extension": ".py",
   "mimetype": "text/x-python",
   "name": "python",
   "nbconvert_exporter": "python",
   "pygments_lexer": "ipython3",
   "version": "3.11.9"
  }
 },
 "nbformat": 4,
 "nbformat_minor": 5
}
